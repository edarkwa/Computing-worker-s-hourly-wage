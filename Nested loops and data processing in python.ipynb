{
 "cells": [
  {
   "cell_type": "code",
   "execution_count": 2,
   "id": "42204a63",
   "metadata": {},
   "outputs": [
    {
     "name": "stdout",
     "output_type": "stream",
     "text": [
      "Question 1: Computing Sales Tax\n",
      "Enter sales item price:8.9\n",
      "Enter sales tax rate:7.9\n",
      "Enter discount percentage:0.9\n",
      "8.01\n",
      "0.8900000000000006\n",
      "7.031000000000005\n",
      "Your Final Sales Price is $7.92\n"
     ]
    }
   ],
   "source": [
    "# # # Question 1: Computing Sales Tax \n",
    "# # print(\"Question 1: Computing Sales Tax\")\n",
    "# #\n",
    "# # 1. Ask user the sales tax rate as floating number.\n",
    "# # 2. Ask user the price of a sales item as floating number.\n",
    "# # 3. Ask user the discount percentage as floating number.\n",
    "# # 4. Display the final sales price with dollar sign ($) and two decimal places.\n",
    "# # \"\"\"\n",
    "# 1. Ask user the sales tax rate as floating number.\n",
    "# 2. Ask user the price of a sales item as floating number.\n",
    "# 3. Ask user the discount percentage as floating number.\n",
    "# 4. Display the final sales price with dollar sign ($) and two decimal places.\n",
    "# \"\"\"\n",
    "\n",
    "print(\"Question 1: Computing Sales Tax\")\n",
    "salesitemprice = float(input (\"Enter sales item price:\"))\n",
    "salestaxrate = float(input (\"Enter sales tax rate:\"))\n",
    "discountpercentage = float(input (\"Enter discount percentage:\"))\n",
    "x = (salesitemprice*discountpercentage)\n",
    "print (x)\n",
    "p = (salesitemprice - x)\n",
    "print (p)\n",
    "g = (salestaxrate*p)\n",
    "print (g)\n",
    "finalsalesprice = (p + g)\n",
    "print (\"Your Final Sales Price is $%0.2f\" % finalsalesprice)"
   ]
  },
  {
   "cell_type": "code",
   "execution_count": 5,
   "id": "be0bada1",
   "metadata": {},
   "outputs": [
    {
     "name": "stdout",
     "output_type": "stream",
     "text": [
      "Question 2: Computing Weekly Average\n",
      "Enter pay rate per hour:9.0\n",
      "Enter hours worked last week:50\n",
      "10 \n",
      " 495.0\n"
     ]
    }
   ],
   "source": [
    "# # Question 2: Computing Weekly Wage \n",
    "# print(\"### Question 2: Computing Weekly Wage\")\n",
    "# \"\"\"\n",
    "# 1. Ask user pay rate per hour as floating number?\n",
    "# 2. Ask user hours worked last week as integer?\n",
    "# 3. If not over-time (i.e. hours worked <= 40):\n",
    "# 3.1. Calculate regular gross pay, and display \"No over-time; gross pay = $\"\n",
    "#      with gross pay in two decimal places.\n",
    "# 4. If over-time (i.e. hours worked > 40):\n",
    "# 4.1. Calculate gross pay of 40 hours of regular pay plus over-time hours (i.e.\n",
    "#      hours worked - 40) on one-and-a-quarter times of pay rate.\n",
    "# 4.2. Use one print() function to display two lines: the number of over-time\n",
    "#      hours, and gross pay with dollar sign ($) and two decimal places.\n",
    "# \"\"\"\n",
    "\n",
    "print (\"Question 2: Computing Weekly Average\")\n",
    "payrateperhour = float (input (\"Enter pay rate per hour:\"))\n",
    "hoursworkedlastweek = int (input(\"Enter hours worked last week:\"))\n",
    "if hoursworkedlastweek <= 40:\n",
    "    regulargrosspay = payrateperhour * hoursworkedlastweek\n",
    "    print(\"No over-time; regular gross pay =$%0.2f\" % regulargrosspay)\n",
    "elif hoursworkedlastweek >40:\n",
    "    grosspay = (40*payrateperhour) + ((hoursworkedlastweek-40)*1.5*payrateperhour)\n",
    "    over_timehours = hoursworkedlastweek-40\n",
    "    print(f\"{over_timehours} \\n {grosspay}\")"
   ]
  },
  {
   "cell_type": "code",
   "execution_count": null,
   "id": "590199d1",
   "metadata": {},
   "outputs": [
    {
     "name": "stdout",
     "output_type": "stream",
     "text": [
      "Question 3: Computing Quizzes Average\n"
     ]
    }
   ],
   "source": [
    "# # Question 3: Computing Quizzes Average \n",
    "# print(\"### Question 3: Computing Quizzes Average\")\n",
    "# \"\"\"\n",
    "# 1. Ask user number of quizzes as integer.\n",
    "# 2. Implement a for loop:\n",
    "# 2.1. Output the quiz counter, and ask user each quiz score as integer.\n",
    "# 2.2. Accumulate the sum of quiz scores.\n",
    "# 3. Calculate and use one print() function to format and display the number of\n",
    "#    quizzes and their average with one decimal place.\n",
    "# \"\"\"\n",
    "\n",
    "print (\"Question 3: Computing Quizzes Average\")\n",
    "numberofquizzes = int(input(\"Enter number of quizzes:\"))\n",
    "totalquizscore=0\n",
    "for number in range(numberofquizzes):\n",
    "    quizscore = int(input(\"Enter quiz score:\"))\n",
    "    totalquizscore+=quizscore\n",
    "average = totalquizscore/numberofquizzes\n",
    "print(f\"{numberofquizzes} \\n {average}\")"
   ]
  },
  {
   "cell_type": "code",
   "execution_count": null,
   "id": "07de6e9a",
   "metadata": {},
   "outputs": [
    {
     "name": "stdout",
     "output_type": "stream",
     "text": [
      "Question 4: Computing Quizzes Average\n"
     ]
    }
   ],
   "source": [
    "# # Question 4: Computing Quizzes Average \n",
    "# print(\"### Question 4: Computing Quizzes Average\")\n",
    "# \"\"\"\n",
    "# 1. Initialize a boolean variable to False to control the while loop below.\n",
    "# 2. Implement a while loop to process the code below, while the above boolean\n",
    "#    variable remains False.\n",
    "# 2.1. Ask user a quiz score as integer or just enter to quit.\n",
    "# 2.2. If user wanted to quit, change the boolean variable to True.\n",
    "# 2.3. Otherwise, accumulate the sum of quiz scores, and count number of quizzes.\n",
    "# 3. Calculate and use one print() function to format and display the number of\n",
    "#    quizzes and their average with one decimal place.\n",
    "# \"\"\"\n",
    "\n",
    "print(\"Question 4: Computing Quizzes Average\")\n",
    "totalquizscore2 = 0\n",
    "countquiz = 0\n",
    "cont = False\n",
    "averagescore = 0\n",
    "while not cont:\n",
    "    quizscore2 = input(\"Enter quiz score or just enter to quit:\")\n",
    "    if quizscore2 == \"\":\n",
    "        cont=True\n",
    "    else:\n",
    "        countquiz+=1\n",
    "        totalquizscore2+=int(quizscore2)\n",
    "        averagescore = totalquizscore2/countquiz\n",
    "print(\"the number of quizzes is \" + str(countquiz) + \" and the average score is %.1f\" % averagescore)\n"
   ]
  },
  {
   "cell_type": "code",
   "execution_count": null,
   "id": "c6e6fa0a",
   "metadata": {},
   "outputs": [],
   "source": []
  }
 ],
 "metadata": {
  "kernelspec": {
   "display_name": "Python 3",
   "language": "python",
   "name": "python3"
  },
  "language_info": {
   "codemirror_mode": {
    "name": "ipython",
    "version": 3
   },
   "file_extension": ".py",
   "mimetype": "text/x-python",
   "name": "python",
   "nbconvert_exporter": "python",
   "pygments_lexer": "ipython3",
   "version": "3.8.8"
  }
 },
 "nbformat": 4,
 "nbformat_minor": 5
}
